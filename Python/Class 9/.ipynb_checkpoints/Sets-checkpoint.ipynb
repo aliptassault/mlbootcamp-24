{
 "cells": [
  {
   "cell_type": "markdown",
   "id": "b3c4ee26-93dc-43fa-aa94-7fdf277b5b43",
   "metadata": {},
   "source": [
    "# Set"
   ]
  },
  {
   "cell_type": "code",
   "execution_count": 13,
   "id": "997f1aca-6230-4561-86b0-1be057081142",
   "metadata": {
    "tags": []
   },
   "outputs": [],
   "source": [
    "s1 = {1,2,3,1}"
   ]
  },
  {
   "cell_type": "code",
   "execution_count": 2,
   "id": "7eda4b6e-edb6-41fb-a47a-e0ef283954cf",
   "metadata": {
    "tags": []
   },
   "outputs": [
    {
     "data": {
      "text/plain": [
       "{1, 2, 3}"
      ]
     },
     "execution_count": 2,
     "metadata": {},
     "output_type": "execute_result"
    }
   ],
   "source": [
    "s1"
   ]
  },
  {
   "cell_type": "code",
   "execution_count": 3,
   "id": "66c5375d-6f7e-414c-a66c-fdc48df2617f",
   "metadata": {
    "tags": []
   },
   "outputs": [
    {
     "ename": "TypeError",
     "evalue": "'set' object is not subscriptable",
     "output_type": "error",
     "traceback": [
      "\u001b[0;31m---------------------------------------------------------------------------\u001b[0m",
      "\u001b[0;31mTypeError\u001b[0m                                 Traceback (most recent call last)",
      "Cell \u001b[0;32mIn[3], line 1\u001b[0m\n\u001b[0;32m----> 1\u001b[0m s1[\u001b[38;5;241m0\u001b[39m]\n",
      "\u001b[0;31mTypeError\u001b[0m: 'set' object is not subscriptable"
     ]
    }
   ],
   "source": [
    "s1[0]"
   ]
  },
  {
   "cell_type": "code",
   "execution_count": 4,
   "id": "d9672977-60b6-4337-a6a7-063fe170c274",
   "metadata": {
    "tags": []
   },
   "outputs": [
    {
     "data": {
      "text/plain": [
       "set"
      ]
     },
     "execution_count": 4,
     "metadata": {},
     "output_type": "execute_result"
    }
   ],
   "source": [
    "type(s1)"
   ]
  },
  {
   "cell_type": "code",
   "execution_count": 5,
   "id": "ebd66785-f971-479e-96fa-7b5dd4dbd60e",
   "metadata": {
    "tags": []
   },
   "outputs": [
    {
     "ename": "TypeError",
     "evalue": "'set' object does not support item assignment",
     "output_type": "error",
     "traceback": [
      "\u001b[0;31m---------------------------------------------------------------------------\u001b[0m",
      "\u001b[0;31mTypeError\u001b[0m                                 Traceback (most recent call last)",
      "Cell \u001b[0;32mIn[5], line 1\u001b[0m\n\u001b[0;32m----> 1\u001b[0m s1[\u001b[38;5;241m0\u001b[39m] \u001b[38;5;241m=\u001b[39m \u001b[38;5;241m5\u001b[39m\n",
      "\u001b[0;31mTypeError\u001b[0m: 'set' object does not support item assignment"
     ]
    }
   ],
   "source": [
    "s1[0] = 5"
   ]
  },
  {
   "cell_type": "code",
   "execution_count": 6,
   "id": "6b7f2da9-10b8-4bba-a79f-3ea52e41d880",
   "metadata": {},
   "outputs": [
    {
     "data": {
      "text/plain": [
       "{1, 2, 3, 4, 6}"
      ]
     },
     "execution_count": 6,
     "metadata": {},
     "output_type": "execute_result"
    }
   ],
   "source": [
    "# str list tuple range\n",
    "\n",
    "set([1,1,2,3,1,4,6])"
   ]
  },
  {
   "cell_type": "markdown",
   "id": "c644063d-3d41-4584-b33b-4980414a75eb",
   "metadata": {
    "tags": []
   },
   "source": [
    "# set is Iterable but not ordered"
   ]
  },
  {
   "cell_type": "code",
   "execution_count": 7,
   "id": "0afcbfde-4168-475a-8ba9-21312f4e4a7a",
   "metadata": {
    "tags": []
   },
   "outputs": [
    {
     "ename": "SyntaxError",
     "evalue": "invalid syntax (3981474540.py, line 4)",
     "output_type": "error",
     "traceback": [
      "\u001b[0;36m  Cell \u001b[0;32mIn[7], line 4\u001b[0;36m\u001b[0m\n\u001b[0;31m    set is Iterable but not ordered\u001b[0m\n\u001b[0m                    ^\u001b[0m\n\u001b[0;31mSyntaxError\u001b[0m\u001b[0;31m:\u001b[0m invalid syntax\n"
     ]
    }
   ],
   "source": [
    "# sir jaise apne set banaya h tuple use krke vaise tuple bna skte h set use krke??\n",
    "\n",
    "\n",
    "set is Iterable but not ordered\n",
    "for i in s1:\n",
    "    print(i)"
   ]
  },
  {
   "cell_type": "code",
   "execution_count": 8,
   "id": "b7d1c9ef-c18b-4bb1-809b-8c78155cce80",
   "metadata": {
    "tags": []
   },
   "outputs": [
    {
     "ename": "TypeError",
     "evalue": "'set' object is not subscriptable",
     "output_type": "error",
     "traceback": [
      "\u001b[0;31m---------------------------------------------------------------------------\u001b[0m",
      "\u001b[0;31mTypeError\u001b[0m                                 Traceback (most recent call last)",
      "Cell \u001b[0;32mIn[8], line 2\u001b[0m\n\u001b[1;32m      1\u001b[0m \u001b[38;5;28;01mfor\u001b[39;00m i \u001b[38;5;129;01min\u001b[39;00m \u001b[38;5;28mrange\u001b[39m(\u001b[38;5;241m0\u001b[39m,\u001b[38;5;28mlen\u001b[39m(s1)):\n\u001b[0;32m----> 2\u001b[0m     \u001b[38;5;28mprint\u001b[39m(s1[i])\n",
      "\u001b[0;31mTypeError\u001b[0m: 'set' object is not subscriptable"
     ]
    }
   ],
   "source": [
    "\n",
    "for i in range(0,len(s1)):\n",
    "    print(s1[i])"
   ]
  },
  {
   "cell_type": "code",
   "execution_count": 9,
   "id": "ac879f0a-138e-49a7-bc50-9ad8506d729b",
   "metadata": {
    "tags": []
   },
   "outputs": [
    {
     "data": {
      "text/plain": [
       "(1, 2, 3)"
      ]
     },
     "execution_count": 9,
     "metadata": {},
     "output_type": "execute_result"
    }
   ],
   "source": [
    "tuple(s1)"
   ]
  },
  {
   "cell_type": "code",
   "execution_count": 10,
   "id": "c03b9865-3891-47df-879d-dd2ebe9b83a5",
   "metadata": {
    "tags": []
   },
   "outputs": [],
   "source": [
    "s2 = {4,5,6,1,31,True}"
   ]
  },
  {
   "cell_type": "code",
   "execution_count": null,
   "id": "24188b13-e753-4715-835e-495399ff8e39",
   "metadata": {
    "tags": []
   },
   "outputs": [],
   "source": [
    "len(s2)"
   ]
  },
  {
   "cell_type": "code",
   "execution_count": null,
   "id": "0d513a8e-9a6c-41e2-afa8-abdb0b497587",
   "metadata": {
    "tags": []
   },
   "outputs": [],
   "source": [
    "s2"
   ]
  },
  {
   "cell_type": "code",
   "execution_count": null,
   "id": "6d3722f4-1490-49f1-95b2-b12094d1e9c1",
   "metadata": {
    "tags": []
   },
   "outputs": [],
   "source": [
    "s3 = set(1,2,3)\n",
    "len(s3)"
   ]
  },
  {
   "cell_type": "code",
   "execution_count": null,
   "id": "5a1c23a3-a9ae-48b8-81a2-404722a407aa",
   "metadata": {
    "tags": []
   },
   "outputs": [],
   "source": [
    "s3 = set((1,2,3))"
   ]
  },
  {
   "cell_type": "code",
   "execution_count": 12,
   "id": "4e39fa2a-5cda-4ded-be79-848a5a62471b",
   "metadata": {
    "tags": []
   },
   "outputs": [
    {
     "ename": "NameError",
     "evalue": "name 's3' is not defined",
     "output_type": "error",
     "traceback": [
      "\u001b[0;31m---------------------------------------------------------------------------\u001b[0m",
      "\u001b[0;31mNameError\u001b[0m                                 Traceback (most recent call last)",
      "Cell \u001b[0;32mIn[12], line 1\u001b[0m\n\u001b[0;32m----> 1\u001b[0m s3\n",
      "\u001b[0;31mNameError\u001b[0m: name 's3' is not defined"
     ]
    }
   ],
   "source": [
    "s3"
   ]
  },
  {
   "cell_type": "code",
   "execution_count": null,
   "id": "1da33afb-f8b9-4fc4-bb84-0ac19a981fde",
   "metadata": {},
   "outputs": [],
   "source": []
  },
  {
   "cell_type": "markdown",
   "id": "1b8cb39f-7f64-43f7-9867-fab733c8b880",
   "metadata": {},
   "source": [
    "# Function for Set "
   ]
  },
  {
   "cell_type": "code",
   "execution_count": null,
   "id": "c4f4860b-ce11-4cea-a04c-2e3d4fd359a4",
   "metadata": {
    "tags": []
   },
   "outputs": [],
   "source": [
    "s3.add('4')"
   ]
  },
  {
   "cell_type": "code",
   "execution_count": null,
   "id": "108a29a8-04b1-46f1-87eb-577b0ce17f0e",
   "metadata": {
    "tags": []
   },
   "outputs": [],
   "source": [
    "s3"
   ]
  },
  {
   "cell_type": "code",
   "execution_count": 11,
   "id": "be23ae79-7b80-411f-9873-ac226c8778f4",
   "metadata": {
    "tags": []
   },
   "outputs": [],
   "source": [
    "s5 = {1,2,True,\"mayank\"}"
   ]
  },
  {
   "cell_type": "code",
   "execution_count": 1,
   "id": "a5cf12f2-6ac6-4d93-9a53-5f16660582a4",
   "metadata": {},
   "outputs": [],
   "source": [
    "s5 = {1,2,True,\"mayank\"}"
   ]
  },
  {
   "cell_type": "code",
   "execution_count": null,
   "id": "f3eaf142-d021-43db-a8d2-c1cc933c901a",
   "metadata": {},
   "outputs": [],
   "source": [
    "s5."
   ]
  },
  {
   "cell_type": "markdown",
   "id": "e6397e1f-c529-403e-90f9-9dfe336b9b7b",
   "metadata": {},
   "source": [
    "# Sets Method"
   ]
  },
  {
   "cell_type": "markdown",
   "id": "017ca162-b36b-4914-9deb-1309892bbe64",
   "metadata": {},
   "source": [
    "1. add()\n",
    "2. clear()\n",
    "3. copy()\n",
    "4. pop()\n",
    "5. remove()\n",
    "6. difference()\n",
    "7. Update()"
   ]
  },
  {
   "cell_type": "code",
   "execution_count": null,
   "id": "469b9f39-cd7c-48da-940e-cfb427c2772f",
   "metadata": {},
   "outputs": [],
   "source": []
  },
  {
   "cell_type": "code",
   "execution_count": null,
   "id": "c993d299-b68e-4a15-9fef-74340249faab",
   "metadata": {},
   "outputs": [],
   "source": []
  },
  {
   "cell_type": "markdown",
   "id": "083c2176-8a1b-4110-8f57-5bbb98102220",
   "metadata": {},
   "source": [
    "# add"
   ]
  },
  {
   "cell_type": "code",
   "execution_count": 15,
   "id": "50a12213-9472-4308-9ae5-415d53ed30b5",
   "metadata": {
    "tags": []
   },
   "outputs": [],
   "source": [
    "s5.add(3)"
   ]
  },
  {
   "cell_type": "code",
   "execution_count": 16,
   "id": "926bcc24-c413-4fab-8fc7-2249be8104e3",
   "metadata": {
    "tags": []
   },
   "outputs": [
    {
     "data": {
      "text/plain": [
       "{1, 2, 3, 'mayank'}"
      ]
     },
     "execution_count": 16,
     "metadata": {},
     "output_type": "execute_result"
    }
   ],
   "source": [
    "s5"
   ]
  },
  {
   "cell_type": "code",
   "execution_count": 17,
   "id": "76dec05c-1d33-4df2-9460-1caf0b3f5ac1",
   "metadata": {
    "tags": []
   },
   "outputs": [],
   "source": [
    "s5.add(1)"
   ]
  },
  {
   "cell_type": "code",
   "execution_count": 18,
   "id": "df5f4dc9-0742-45ae-af1d-55644ca42077",
   "metadata": {
    "tags": []
   },
   "outputs": [
    {
     "data": {
      "text/plain": [
       "{1, 2, 3, 'mayank'}"
      ]
     },
     "execution_count": 18,
     "metadata": {},
     "output_type": "execute_result"
    }
   ],
   "source": [
    "s5"
   ]
  },
  {
   "cell_type": "code",
   "execution_count": 19,
   "id": "1490fd75-afec-4e8a-8885-3023576fce9f",
   "metadata": {
    "tags": []
   },
   "outputs": [],
   "source": [
    "s5.add(True)"
   ]
  },
  {
   "cell_type": "code",
   "execution_count": 20,
   "id": "ddd82641-1a3d-4c5a-90da-d450ba3d1e8d",
   "metadata": {
    "tags": []
   },
   "outputs": [
    {
     "data": {
      "text/plain": [
       "{1, 2, 3, 'mayank'}"
      ]
     },
     "execution_count": 20,
     "metadata": {},
     "output_type": "execute_result"
    }
   ],
   "source": [
    "s5"
   ]
  },
  {
   "cell_type": "code",
   "execution_count": null,
   "id": "7d657b94-57ec-4fe8-ab91-8d01e6e23ece",
   "metadata": {},
   "outputs": [],
   "source": []
  },
  {
   "cell_type": "markdown",
   "id": "f9134b67-7aa4-4021-ab1d-7a6c0fc7881a",
   "metadata": {},
   "source": [
    "# copy"
   ]
  },
  {
   "cell_type": "code",
   "execution_count": 21,
   "id": "32f5f4a5-ab88-4bcf-84fb-6b1831c980c9",
   "metadata": {
    "tags": []
   },
   "outputs": [],
   "source": [
    "s6 = s5.copy()"
   ]
  },
  {
   "cell_type": "code",
   "execution_count": 22,
   "id": "86799600-4d97-4512-9e18-f1a813732916",
   "metadata": {
    "tags": []
   },
   "outputs": [
    {
     "data": {
      "text/plain": [
       "{1, 2, 3, 'mayank'}"
      ]
     },
     "execution_count": 22,
     "metadata": {},
     "output_type": "execute_result"
    }
   ],
   "source": [
    "s6"
   ]
  },
  {
   "cell_type": "code",
   "execution_count": 23,
   "id": "cf1ccdd4-7058-44e2-9e02-816e0fd9f546",
   "metadata": {
    "tags": []
   },
   "outputs": [
    {
     "name": "stdout",
     "output_type": "stream",
     "text": [
      "4430195712\n",
      "4430197504\n"
     ]
    }
   ],
   "source": [
    "print(id(s6))\n",
    "print(id(s5))"
   ]
  },
  {
   "cell_type": "code",
   "execution_count": 24,
   "id": "35ecd38a-da65-4147-a59b-8773e64564b3",
   "metadata": {
    "tags": []
   },
   "outputs": [],
   "source": [
    "s5.add(65)"
   ]
  },
  {
   "cell_type": "code",
   "execution_count": 39,
   "id": "04c275b4-95ca-4591-87f5-af6192f9ffa6",
   "metadata": {
    "tags": []
   },
   "outputs": [
    {
     "data": {
      "text/plain": [
       "{1, 2, 3, 'mayank'}"
      ]
     },
     "execution_count": 39,
     "metadata": {},
     "output_type": "execute_result"
    }
   ],
   "source": [
    "s6"
   ]
  },
  {
   "cell_type": "code",
   "execution_count": 26,
   "id": "10b450c1-c790-4044-8f58-010a79684b2d",
   "metadata": {
    "tags": []
   },
   "outputs": [
    {
     "data": {
      "text/plain": [
       "{1, 2, 3, 65, 'mayank'}"
      ]
     },
     "execution_count": 26,
     "metadata": {},
     "output_type": "execute_result"
    }
   ],
   "source": [
    "s5"
   ]
  },
  {
   "cell_type": "code",
   "execution_count": 27,
   "id": "0eb0e09d-f17f-4187-a3be-8ec717e7ede6",
   "metadata": {
    "tags": []
   },
   "outputs": [],
   "source": [
    "s7 = s5"
   ]
  },
  {
   "cell_type": "code",
   "execution_count": 28,
   "id": "10c0e352-aa59-438a-804e-f56209dcebc9",
   "metadata": {
    "tags": []
   },
   "outputs": [],
   "source": [
    "s7.add(64)"
   ]
  },
  {
   "cell_type": "code",
   "execution_count": 29,
   "id": "de513df6-1f67-4296-b4df-8b2b275aefc0",
   "metadata": {
    "tags": []
   },
   "outputs": [
    {
     "data": {
      "text/plain": [
       "{1, 2, 3, 64, 65, 'mayank'}"
      ]
     },
     "execution_count": 29,
     "metadata": {},
     "output_type": "execute_result"
    }
   ],
   "source": [
    "s5"
   ]
  },
  {
   "cell_type": "code",
   "execution_count": 32,
   "id": "5945cda3-78de-4ae9-ad11-1c1dfdc2236c",
   "metadata": {
    "tags": []
   },
   "outputs": [],
   "source": [
    "s8 = s5.copy()"
   ]
  },
  {
   "cell_type": "code",
   "execution_count": 30,
   "id": "5cd711d4-da34-4c7f-8724-23eaaf0b8537",
   "metadata": {
    "tags": []
   },
   "outputs": [
    {
     "name": "stdout",
     "output_type": "stream",
     "text": [
      "4374654136\n",
      "4374654168\n",
      "4374652120\n",
      "4374652152\n",
      "4374652184\n",
      "4443210032\n"
     ]
    }
   ],
   "source": [
    "for i in s5:\n",
    "    print(id(i))"
   ]
  },
  {
   "cell_type": "code",
   "execution_count": 33,
   "id": "08f3a03d-ea6f-454d-a29d-c4b90c0a8fbc",
   "metadata": {
    "tags": []
   },
   "outputs": [
    {
     "name": "stdout",
     "output_type": "stream",
     "text": [
      "4374654136\n",
      "4374654168\n",
      "4374652120\n",
      "4374652152\n",
      "4374652184\n",
      "4443210032\n"
     ]
    }
   ],
   "source": [
    "for i in s8:\n",
    "    print(id(i))"
   ]
  },
  {
   "cell_type": "code",
   "execution_count": 34,
   "id": "c15c8afd-cdaf-4e3e-a769-42920e66fdba",
   "metadata": {
    "tags": []
   },
   "outputs": [
    {
     "name": "stdout",
     "output_type": "stream",
     "text": [
      "4430197504\n",
      "4445271904\n"
     ]
    }
   ],
   "source": [
    "print(id(s5))\n",
    "print(id(s8))"
   ]
  },
  {
   "cell_type": "code",
   "execution_count": 36,
   "id": "deb8cd95-8407-4426-b48f-752ad8660c96",
   "metadata": {
    "tags": []
   },
   "outputs": [],
   "source": [
    "s8.add(5454)"
   ]
  },
  {
   "cell_type": "code",
   "execution_count": 37,
   "id": "ea506345-0053-4f2e-987c-da196722c4d2",
   "metadata": {
    "tags": []
   },
   "outputs": [
    {
     "data": {
      "text/plain": [
       "{1, 2, 3, 5454, 64, 65, 'mayank'}"
      ]
     },
     "execution_count": 37,
     "metadata": {},
     "output_type": "execute_result"
    }
   ],
   "source": [
    "s8"
   ]
  },
  {
   "cell_type": "code",
   "execution_count": 38,
   "id": "eb563cf3-9829-4414-bff1-8f297252aad0",
   "metadata": {
    "tags": []
   },
   "outputs": [
    {
     "data": {
      "text/plain": [
       "{1, 2, 3, 5454, 64, 65, 'mayank'}"
      ]
     },
     "execution_count": 38,
     "metadata": {},
     "output_type": "execute_result"
    }
   ],
   "source": [
    "s5"
   ]
  }
 ],
 "metadata": {
  "kernelspec": {
   "display_name": "Python 3 (ipykernel)",
   "language": "python",
   "name": "python3"
  },
  "language_info": {
   "codemirror_mode": {
    "name": "ipython",
    "version": 3
   },
   "file_extension": ".py",
   "mimetype": "text/x-python",
   "name": "python",
   "nbconvert_exporter": "python",
   "pygments_lexer": "ipython3",
   "version": "3.11.5"
  }
 },
 "nbformat": 4,
 "nbformat_minor": 5
}
