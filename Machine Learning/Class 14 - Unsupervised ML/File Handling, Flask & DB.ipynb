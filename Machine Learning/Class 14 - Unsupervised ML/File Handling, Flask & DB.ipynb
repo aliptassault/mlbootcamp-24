{
 "cells": [
  {
   "cell_type": "markdown",
   "id": "35d5163a-3382-4af3-b438-fd92f9e53da0",
   "metadata": {},
   "source": [
    "### Working With Files\n",
    "\n",
    "In Python, you can work with files using the built-in `open()` function. The `open()` function takes two parameters: filename and mode.\n",
    "\n",
    "The different modes for opening a file are:\n",
    "- `\"r\"` - Read (default mode). Opens a file for reading.\n",
    "- `\"w\"` - Write. Opens a file for writing (creates a new file if it does not exist or truncates the file if it exists).\n",
    "- `\"a\"` - Append. Opens a file for appending (creates a new file if it does not exist).\n",
    "- `\"b\"` - Binary mode. Opens a file in binary mode (e.g., images).\n",
    "- `\"t\"` - Text mode (default mode). Opens a file in text mode.\n",
    "\n",
    "\n"
   ]
  },
  {
   "cell_type": "code",
   "execution_count": 7,
   "id": "4d6add3d-f7d4-44fe-bc6a-d7e7f68f36fd",
   "metadata": {},
   "outputs": [
    {
     "name": "stdin",
     "output_type": "stream",
     "text": [
      " ma\n"
     ]
    },
    {
     "name": "stdout",
     "output_type": "stream",
     "text": [
      "Hello my name is ma\n"
     ]
    }
   ],
   "source": [
    "name = input()\n",
    "print(\"Hello my name is \"+name)"
   ]
  },
  {
   "cell_type": "code",
   "execution_count": null,
   "id": "db2499b2-97fe-48cc-974d-18fb1568a4e3",
   "metadata": {},
   "outputs": [],
   "source": []
  },
  {
   "cell_type": "code",
   "execution_count": 9,
   "id": "3be97588-5a85-4538-ab7a-ec1b9e3628ee",
   "metadata": {},
   "outputs": [
    {
     "ename": "NameError",
     "evalue": "name 'logging' is not defined",
     "output_type": "error",
     "traceback": [
      "\u001b[0;31m---------------------------------------------------------------------------\u001b[0m",
      "\u001b[0;31mNameError\u001b[0m                                 Traceback (most recent call last)",
      "Cell \u001b[0;32mIn[9], line 2\u001b[0m\n\u001b[1;32m      1\u001b[0m \u001b[38;5;66;03m# Example logging messages\u001b[39;00m\n\u001b[0;32m----> 2\u001b[0m logging\u001b[38;5;241m.\u001b[39mdebug(\u001b[38;5;124m\"\u001b[39m\u001b[38;5;124mThis is a debug message\u001b[39m\u001b[38;5;124m\"\u001b[39m)\n\u001b[1;32m      3\u001b[0m logging\u001b[38;5;241m.\u001b[39minfo(\u001b[38;5;124m\"\u001b[39m\u001b[38;5;124mThis is an info message\u001b[39m\u001b[38;5;124m\"\u001b[39m)\n\u001b[1;32m      4\u001b[0m logging\u001b[38;5;241m.\u001b[39mwarning(\u001b[38;5;124m\"\u001b[39m\u001b[38;5;124mThis is a warning message\u001b[39m\u001b[38;5;124m\"\u001b[39m)\n",
      "\u001b[0;31mNameError\u001b[0m: name 'logging' is not defined"
     ]
    }
   ],
   "source": [
    "# Example logging messages\n",
    "logging.debug(\"This is a debug message\")\n",
    "logging.info(\"This is an info message\")\n",
    "logging.warning(\"This is a warning message\")\n",
    "logging.error(\"This is an error message\")\n",
    "logging.critical(\"This is a critical message\")"
   ]
  }
 ],
 "metadata": {
  "kernelspec": {
   "display_name": "Python 3 (ipykernel)",
   "language": "python",
   "name": "python3"
  },
  "language_info": {
   "codemirror_mode": {
    "name": "ipython",
    "version": 3
   },
   "file_extension": ".py",
   "mimetype": "text/x-python",
   "name": "python",
   "nbconvert_exporter": "python",
   "pygments_lexer": "ipython3",
   "version": "3.11.5"
  }
 },
 "nbformat": 4,
 "nbformat_minor": 5
}
